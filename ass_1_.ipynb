{
  "nbformat": 4,
  "nbformat_minor": 0,
  "metadata": {
    "colab": {
      "name": "ass-1 .ipynb",
      "provenance": [],
      "authorship_tag": "ABX9TyMxFbZ9wDF9t9eLf1auuFCt",
      "include_colab_link": true
    },
    "kernelspec": {
      "name": "python3",
      "display_name": "Python 3"
    }
  },
  "cells": [
    {
      "cell_type": "markdown",
      "metadata": {
        "id": "view-in-github",
        "colab_type": "text"
      },
      "source": [
        "<a href=\"https://colab.research.google.com/github/prashant90066/18CSE049/blob/main/ass_1_.ipynb\" target=\"_parent\"><img src=\"https://colab.research.google.com/assets/colab-badge.svg\" alt=\"Open In Colab\"/></a>"
      ]
    },
    {
      "cell_type": "code",
      "metadata": {
        "id": "RTYJ7PzFp1s8"
      },
      "source": [
        "import numpy\n",
        "from scipy import stats"
      ],
      "execution_count": 1,
      "outputs": []
    },
    {
      "cell_type": "code",
      "metadata": {
        "id": "W-XCQYYOp7nj"
      },
      "source": [
        "weight=[56,60,62,65,70]"
      ],
      "execution_count": 2,
      "outputs": []
    },
    {
      "cell_type": "code",
      "metadata": {
        "id": "SXOHF6qhp-SF"
      },
      "source": [
        "x=numpy.mean(weight)\n",
        "y=numpy.median(weight)\n",
        "z=stats.mode(weight)\n",
        "s=numpy.std(weight)\n",
        "v=numpy.var(weight)\n"
      ],
      "execution_count": 3,
      "outputs": []
    },
    {
      "cell_type": "code",
      "metadata": {
        "colab": {
          "base_uri": "https://localhost:8080/"
        },
        "id": "M7UwQel-qBl6",
        "outputId": "a2364cd8-49ae-4d2d-90bf-d0aaee4b919e"
      },
      "source": [
        "print(\"mean is :\",x)\n",
        "print(\"median is :\",y)\n",
        "print(\"mode is :\",z)\n",
        "print(\"standard deviation is :\",s)\n",
        "print(\"varience is :\",v)"
      ],
      "execution_count": 4,
      "outputs": [
        {
          "output_type": "stream",
          "text": [
            "mean is : 62.6\n",
            "median is : 62.0\n",
            "mode is : ModeResult(mode=array([56]), count=array([1]))\n",
            "standard deviation is : 4.715930449020639\n",
            "varience is : 22.24\n"
          ],
          "name": "stdout"
        }
      ]
    },
    {
      "cell_type": "code",
      "metadata": {
        "id": "KgONTJ9ZqFI5"
      },
      "source": [
        ""
      ],
      "execution_count": null,
      "outputs": []
    }
  ]
}